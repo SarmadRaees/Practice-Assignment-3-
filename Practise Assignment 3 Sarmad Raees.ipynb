{
 "cells": [
  {
   "cell_type": "markdown",
   "metadata": {},
   "source": [
    "# Q1:"
   ]
  },
  {
   "cell_type": "markdown",
   "metadata": {},
   "source": [
    "Think of at least three kinds of your favorite pizza. Store these pizza names in a list, and then use a for loop to print the name of each pizza."
   ]
  },
  {
   "cell_type": "code",
   "execution_count": 2,
   "metadata": {},
   "outputs": [],
   "source": [
    "pizza=['spicy','tikka','chicken','pepperoni']"
   ]
  },
  {
   "cell_type": "code",
   "execution_count": 3,
   "metadata": {},
   "outputs": [
    {
     "name": "stdout",
     "output_type": "stream",
     "text": [
      "spicy\n",
      "tikka\n",
      "chicken\n",
      "pepperoni\n"
     ]
    }
   ],
   "source": [
    "for i in pizza:\n",
    "    print(i)"
   ]
  },
  {
   "cell_type": "code",
   "execution_count": null,
   "metadata": {},
   "outputs": [],
   "source": []
  },
  {
   "cell_type": "markdown",
   "metadata": {},
   "source": [
    "# Q2"
   ]
  },
  {
   "cell_type": "markdown",
   "metadata": {},
   "source": [
    "Start with your last question , Modify your for loop to print a sentence using the name of the pizza\n",
    "instead of printing just the name of the pizza. For each pizza you should\n",
    "have one line of output containing a simple statement like I like pepperoni\n",
    "pizza."
   ]
  },
  {
   "cell_type": "code",
   "execution_count": 4,
   "metadata": {},
   "outputs": [],
   "source": [
    "pizza=['spicy','tikka','chicken','pepperoni']"
   ]
  },
  {
   "cell_type": "code",
   "execution_count": 5,
   "metadata": {},
   "outputs": [
    {
     "name": "stdout",
     "output_type": "stream",
     "text": [
      "i like spicy pizza\n",
      "i like tikka pizza\n",
      "i like chicken pizza\n",
      "i like pepperoni pizza\n"
     ]
    }
   ],
   "source": [
    "for i in pizza:\n",
    "    print('i like',i,'pizza')"
   ]
  },
  {
   "cell_type": "code",
   "execution_count": null,
   "metadata": {},
   "outputs": [],
   "source": []
  },
  {
   "cell_type": "markdown",
   "metadata": {},
   "source": [
    "# Q3:"
   ]
  },
  {
   "cell_type": "markdown",
   "metadata": {},
   "source": [
    "Use a for loop to print the numbers from 1 to 20,\n",
    "inclusive."
   ]
  },
  {
   "cell_type": "code",
   "execution_count": 6,
   "metadata": {},
   "outputs": [
    {
     "name": "stdout",
     "output_type": "stream",
     "text": [
      "1\n",
      "2\n",
      "3\n",
      "4\n",
      "5\n",
      "6\n",
      "7\n",
      "8\n",
      "9\n",
      "10\n",
      "11\n",
      "12\n",
      "13\n",
      "14\n",
      "15\n",
      "16\n",
      "17\n",
      "18\n",
      "19\n",
      "20\n"
     ]
    }
   ],
   "source": [
    "for i in range(1,21):\n",
    "    print(i)"
   ]
  },
  {
   "cell_type": "code",
   "execution_count": null,
   "metadata": {},
   "outputs": [],
   "source": []
  },
  {
   "cell_type": "code",
   "execution_count": null,
   "metadata": {},
   "outputs": [],
   "source": []
  },
  {
   "cell_type": "markdown",
   "metadata": {},
   "source": [
    "# Q4:"
   ]
  },
  {
   "cell_type": "markdown",
   "metadata": {},
   "source": [
    "Use the third argument of the range() function to make a list\n",
    "of the odd numbers from 1 to 20. Use a for loop to print each number."
   ]
  },
  {
   "cell_type": "code",
   "execution_count": 2,
   "metadata": {},
   "outputs": [
    {
     "name": "stdout",
     "output_type": "stream",
     "text": [
      "1\n",
      "3\n",
      "5\n",
      "7\n",
      "9\n",
      "11\n",
      "13\n",
      "15\n",
      "17\n",
      "19\n"
     ]
    }
   ],
   "source": [
    "for odd in range(1,20):\n",
    "    if odd%2!=0:\n",
    "        print(odd)\n",
    "    \n",
    "    "
   ]
  },
  {
   "cell_type": "code",
   "execution_count": null,
   "metadata": {},
   "outputs": [],
   "source": []
  },
  {
   "cell_type": "code",
   "execution_count": null,
   "metadata": {},
   "outputs": [],
   "source": []
  },
  {
   "cell_type": "markdown",
   "metadata": {},
   "source": [
    "# Q5:"
   ]
  },
  {
   "cell_type": "markdown",
   "metadata": {},
   "source": [
    "Make a list of the multiples of 3 from 3 to 30. Use a for loop to\n",
    "print the numbers in your list."
   ]
  },
  {
   "cell_type": "code",
   "execution_count": 10,
   "metadata": {},
   "outputs": [],
   "source": [
    "multiple_of_3=[value for value in range(3,31,3)]"
   ]
  },
  {
   "cell_type": "code",
   "execution_count": 11,
   "metadata": {},
   "outputs": [
    {
     "name": "stdout",
     "output_type": "stream",
     "text": [
      "[3, 6, 9, 12, 15, 18, 21, 24, 27, 30]\n"
     ]
    }
   ],
   "source": [
    "print(multiple_of_3)"
   ]
  },
  {
   "cell_type": "code",
   "execution_count": null,
   "metadata": {},
   "outputs": [],
   "source": []
  },
  {
   "cell_type": "code",
   "execution_count": null,
   "metadata": {},
   "outputs": [],
   "source": []
  },
  {
   "cell_type": "markdown",
   "metadata": {},
   "source": [
    "# Q6:"
   ]
  },
  {
   "cell_type": "markdown",
   "metadata": {},
   "source": [
    "A number raised to the third power is called a cube. For example,\n",
    "the cube of 2 is written as 2**3 in Python. Make a list of the first 10 cubes (that\n",
    "is, the cube of each integer from 1 through 10), and use a for loop to print out\n",
    "the value of each cube"
   ]
  },
  {
   "cell_type": "code",
   "execution_count": 12,
   "metadata": {},
   "outputs": [],
   "source": [
    "first_10=[cube**3 for cube in range(1,11)]"
   ]
  },
  {
   "cell_type": "code",
   "execution_count": 13,
   "metadata": {},
   "outputs": [
    {
     "name": "stdout",
     "output_type": "stream",
     "text": [
      "[1, 8, 27, 64, 125, 216, 343, 512, 729, 1000]\n"
     ]
    }
   ],
   "source": [
    "print(first_10)"
   ]
  },
  {
   "cell_type": "code",
   "execution_count": null,
   "metadata": {},
   "outputs": [],
   "source": []
  },
  {
   "cell_type": "code",
   "execution_count": null,
   "metadata": {},
   "outputs": [],
   "source": []
  },
  {
   "cell_type": "markdown",
   "metadata": {},
   "source": [
    "# Q7:"
   ]
  },
  {
   "cell_type": "markdown",
   "metadata": {},
   "source": [
    "###### Make a python program that conatains your nine favourite dishes in a list called foods.\n",
    "\n",
    "###### Print the message, The first three items in the list are:. \n",
    "###### Then use a slice to print the first three items from that program’s list.\n",
    "\n",
    "###### Print the message, Three items from the middle of the list are:\n",
    "###### Use a slice to print three items from the middle of the list.\n",
    "\n",
    "###### Print the message, The last three items in the list are:\n",
    "###### Use a slice to print the last three items in the list."
   ]
  },
  {
   "cell_type": "code",
   "execution_count": 28,
   "metadata": {},
   "outputs": [],
   "source": [
    "food=['biryani','tikka','pizza','macroni','yakhni pilau','milai botti','Nuggets','Chicken Qorma','Haleem']"
   ]
  },
  {
   "cell_type": "code",
   "execution_count": 29,
   "metadata": {},
   "outputs": [
    {
     "name": "stdout",
     "output_type": "stream",
     "text": [
      "The first three items in the list are:\n",
      "macroni\n",
      "yakhni pilau\n",
      "milai botti\n"
     ]
    }
   ],
   "source": [
    "print('The first three items in the list are:')\n",
    "for food in food[3:6]:\n",
    "    print(food)"
   ]
  },
  {
   "cell_type": "code",
   "execution_count": 25,
   "metadata": {},
   "outputs": [],
   "source": [
    "food=['biryani','tikka','pizza','macroni','yakhni pilau','milai botti','Nuggets','Chicken Qorma','Haleem']"
   ]
  },
  {
   "cell_type": "code",
   "execution_count": 26,
   "metadata": {},
   "outputs": [
    {
     "name": "stdout",
     "output_type": "stream",
     "text": [
      "The first three items in the list are:\n",
      "biryani\n",
      "tikka\n",
      "pizza\n"
     ]
    }
   ],
   "source": [
    "print('Three items from the middle of the list are:')\n",
    "for food in food[:3]:\n",
    "    print(food)"
   ]
  },
  {
   "cell_type": "code",
   "execution_count": 31,
   "metadata": {},
   "outputs": [],
   "source": [
    "food=['biryani','tikka','pizza','macroni','yakhni pilau','milai botti','Nuggets','Chicken Qorma','Haleem']"
   ]
  },
  {
   "cell_type": "code",
   "execution_count": 32,
   "metadata": {},
   "outputs": [
    {
     "name": "stdout",
     "output_type": "stream",
     "text": [
      "The last three items in the list are:\n",
      "Nuggets\n",
      "Chicken Qorma\n",
      "Haleem\n"
     ]
    }
   ],
   "source": [
    "print('The last three items in the list are:')\n",
    "for food in food[6:9]:\n",
    "    print(food)"
   ]
  },
  {
   "cell_type": "code",
   "execution_count": null,
   "metadata": {},
   "outputs": [],
   "source": []
  },
  {
   "cell_type": "markdown",
   "metadata": {},
   "source": [
    "# Q8:"
   ]
  },
  {
   "cell_type": "markdown",
   "metadata": {},
   "source": [
    "### Start with your program from your last Question8.\n",
    "###### Make a copy of the list of foods, and call it friend_foods.\n",
    "###### Then, do the following:\n",
    "######    Add a new dish to the original list.\n",
    "######    Add a different dish to the list friend_foodss.\n",
    "######    Prove that you have two separate lists. \n",
    "###### Print the message, My favorite pizzas are: and then use a for loop to print the first list. \n",
    "###### Print the message,\n",
    "###### My friend’s favorite foods are:, and then use a for loop to print the second list.\n",
    "    \n",
    "##### NOTE: Make sure each new dish is stored in the appropriate list."
   ]
  },
  {
   "cell_type": "code",
   "execution_count": 35,
   "metadata": {},
   "outputs": [],
   "source": [
    "food=['biryani','tikka','pizza','macroni','yakhni pilau','milai botti','Nuggets','Chicken Qorma','Haleem']"
   ]
  },
  {
   "cell_type": "code",
   "execution_count": 39,
   "metadata": {},
   "outputs": [],
   "source": [
    "friends_food=food.copy()"
   ]
  },
  {
   "cell_type": "code",
   "execution_count": 40,
   "metadata": {},
   "outputs": [],
   "source": [
    "food.append('pasta')"
   ]
  },
  {
   "cell_type": "code",
   "execution_count": 41,
   "metadata": {},
   "outputs": [],
   "source": [
    "friends_food.append('Shashlik')"
   ]
  },
  {
   "cell_type": "code",
   "execution_count": 42,
   "metadata": {},
   "outputs": [
    {
     "name": "stdout",
     "output_type": "stream",
     "text": [
      "My favorite pizzas are: biryani\n",
      "My favorite pizzas are: tikka\n",
      "My favorite pizzas are: pizza\n",
      "My favorite pizzas are: macroni\n",
      "My favorite pizzas are: yakhni pilau\n",
      "My favorite pizzas are: milai botti\n",
      "My favorite pizzas are: Nuggets\n",
      "My favorite pizzas are: Chicken Qorma\n",
      "My favorite pizzas are: Haleem\n",
      "My favorite pizzas are: pasta\n"
     ]
    }
   ],
   "source": [
    "for i in food:\n",
    "    print('My favorite pizzas are:',i)"
   ]
  },
  {
   "cell_type": "code",
   "execution_count": 44,
   "metadata": {},
   "outputs": [
    {
     "name": "stdout",
     "output_type": "stream",
     "text": [
      "My friend’s favorite foods are: biryani\n",
      "My friend’s favorite foods are: tikka\n",
      "My friend’s favorite foods are: pizza\n",
      "My friend’s favorite foods are: macroni\n",
      "My friend’s favorite foods are: yakhni pilau\n",
      "My friend’s favorite foods are: milai botti\n",
      "My friend’s favorite foods are: Nuggets\n",
      "My friend’s favorite foods are: Chicken Qorma\n",
      "My friend’s favorite foods are: Haleem\n",
      "My friend’s favorite foods are: Shashlik\n"
     ]
    }
   ],
   "source": [
    " for i in friends_food:\n",
    "    print('My friend’s favorite foods are:',i)"
   ]
  },
  {
   "cell_type": "code",
   "execution_count": null,
   "metadata": {},
   "outputs": [],
   "source": []
  },
  {
   "cell_type": "markdown",
   "metadata": {},
   "source": [
    "# Q9:"
   ]
  },
  {
   "cell_type": "markdown",
   "metadata": {},
   "source": [
    "Take a user input from console line.Store it in a variable called Alien_color.\n",
    "\n",
    "If the alien’s color is red, print a statement that the player just earned 5 points for shooting the alien.\n",
    "\n",
    "If the alien’s color isn’t green, print a statement that the player just earned 10 points.\n",
    "\n",
    "If the alien's color isn't red or green , print a statment :, Alien is no more....."
   ]
  },
  {
   "cell_type": "code",
   "execution_count": 12,
   "metadata": {},
   "outputs": [
    {
     "name": "stdout",
     "output_type": "stream",
     "text": [
      "red\n"
     ]
    }
   ],
   "source": [
    "Alien_color=input().lower()"
   ]
  },
  {
   "cell_type": "code",
   "execution_count": 13,
   "metadata": {},
   "outputs": [
    {
     "name": "stdout",
     "output_type": "stream",
     "text": [
      " player just earned 5 points for shooting the alien.\n"
     ]
    }
   ],
   "source": [
    "if Alien_color =='red':\n",
    "    print(' player just earned 5 points for shooting the alien.')\n",
    "elif Alien_color == 'green':\n",
    "    print(' player just earned 10 points')\n",
    "else:\n",
    "    print('Alien is no more.....')"
   ]
  },
  {
   "cell_type": "code",
   "execution_count": 14,
   "metadata": {},
   "outputs": [
    {
     "name": "stdout",
     "output_type": "stream",
     "text": [
      "green\n",
      " player just earned 10 points\n"
     ]
    }
   ],
   "source": [
    "Alien_color=input().lower()\n",
    "if Alien_color =='red':\n",
    "    print(' player just earned 5 points for shooting the alien.')\n",
    "elif Alien_color == 'green':\n",
    "    print(' player just earned 10 points')\n",
    "else:\n",
    "    print('Alien is no more.....')"
   ]
  },
  {
   "cell_type": "code",
   "execution_count": 15,
   "metadata": {},
   "outputs": [
    {
     "name": "stdout",
     "output_type": "stream",
     "text": [
      "blue\n",
      "Alien is no more.....\n"
     ]
    }
   ],
   "source": [
    "Alien_color=input().lower()\n",
    "if Alien_color =='red':\n",
    "    print(' player just earned 5 points for shooting the alien.')\n",
    "elif Alien_color == 'green':\n",
    "    print(' player just earned 10 points')\n",
    "else:\n",
    "    print('Alien is no more.....')"
   ]
  },
  {
   "cell_type": "markdown",
   "metadata": {},
   "source": [
    "# Q10:"
   ]
  },
  {
   "cell_type": "markdown",
   "metadata": {},
   "source": [
    "Write an if-elif-else chain that determines a person’s\n",
    "stage of life. Set a value for the variable age, and then:\n",
    "    \n",
    "•\t If the person is less than 2 years old, print a message that the person is a baby.\n",
    "\n",
    "•\t If the person is at least 2 years old but less than 4, print a message that the person is a toddler.\n",
    "\n",
    "•\t If the person is at least 4 years old but less than 13, print a message that the person is a kid.\n",
    "\n",
    "•\t If the person is at least 13 years old but less than 20, print a message that the person is a teenager.\n",
    "\n",
    "•\t If the person is at least 20 years old but less than 65, print a message that the person is an adult.\n",
    "\n",
    "•\t If the person is age 65 or older, print a message that the person is an elder."
   ]
  },
  {
   "cell_type": "code",
   "execution_count": 4,
   "metadata": {},
   "outputs": [
    {
     "name": "stdout",
     "output_type": "stream",
     "text": [
      "enter age 1\n",
      "the person is baby\n"
     ]
    }
   ],
   "source": [
    "age=int(input('enter age '))\n",
    "if age < 2:\n",
    "    print (\"the person is baby\")\n",
    "elif age >= 2 and age < 4:\n",
    "    print (\"the person is a toddler\")\n",
    "elif age >= 4 and age < 13:\n",
    "    print (\"the person is kid\")\n",
    "elif age >= 13 and age < 13:\n",
    "    print (\"the person is a teenager\")\n",
    "elif age >= 20 and age < 65:\n",
    "    print(\"the person is an adult\")\n",
    "else:\n",
    "    print (\" the persoon is an elder\")\n",
    "    \n",
    "    "
   ]
  },
  {
   "cell_type": "code",
   "execution_count": 5,
   "metadata": {},
   "outputs": [
    {
     "name": "stdout",
     "output_type": "stream",
     "text": [
      "enter age 3\n",
      "the person is a toddler\n"
     ]
    }
   ],
   "source": [
    "age=int(input('enter age '))\n",
    "if age < 2:\n",
    "    print (\"the person is baby\")\n",
    "elif age >= 2 and age < 4:\n",
    "    print (\"the person is a toddler\")\n",
    "elif age >= 4 and age < 13:\n",
    "    print (\"the person is kid\")\n",
    "elif age >= 13 and age < 13:\n",
    "    print (\"the person is a teenager\")\n",
    "elif age >= 20 and age < 65:\n",
    "    print(\"the person is an adult\")\n",
    "else:\n",
    "    print (\" the persoon is an elder\")\n",
    "    "
   ]
  },
  {
   "cell_type": "code",
   "execution_count": 6,
   "metadata": {},
   "outputs": [
    {
     "name": "stdout",
     "output_type": "stream",
     "text": [
      "enter age 7\n",
      "the person is kid\n"
     ]
    }
   ],
   "source": [
    "age=int(input('enter age '))\n",
    "if age < 2:\n",
    "    print (\"the person is baby\")\n",
    "elif age >= 2 and age < 4:\n",
    "    print (\"the person is a toddler\")\n",
    "elif age >= 4 and age < 13:\n",
    "    print (\"the person is kid\")\n",
    "elif age >= 13 and age < 13:\n",
    "    print (\"the person is a teenager\")\n",
    "elif age >= 20 and age < 65:\n",
    "    print(\"the person is an adult\")\n",
    "else:\n",
    "    print (\" the persoon is an elder\")\n",
    "    "
   ]
  },
  {
   "cell_type": "code",
   "execution_count": 8,
   "metadata": {},
   "outputs": [
    {
     "name": "stdout",
     "output_type": "stream",
     "text": [
      "enter age 15\n",
      "the person is a teenager\n"
     ]
    }
   ],
   "source": [
    "age=int(input('enter age '))\n",
    "if age < 2:\n",
    "    print (\"the person is baby\")\n",
    "elif age >= 2 and age < 4:\n",
    "    print (\"the person is a toddler\")\n",
    "elif age >= 4 and age < 13:\n",
    "    print (\"the person is kid\")\n",
    "elif age >= 13 and age < 20:\n",
    "    print (\"the person is a teenager\")\n",
    "elif age >= 20 and age < 65:\n",
    "    print(\"the person is an adult\")\n",
    "else:\n",
    "    print (\" the persoon is an elder\")\n",
    "    "
   ]
  },
  {
   "cell_type": "code",
   "execution_count": 9,
   "metadata": {},
   "outputs": [
    {
     "name": "stdout",
     "output_type": "stream",
     "text": [
      "enter age 45\n",
      "the person is an adult\n"
     ]
    }
   ],
   "source": [
    "age=int(input('enter age '))\n",
    "if age < 2:\n",
    "    print (\"the person is baby\")\n",
    "elif age >= 2 and age < 4:\n",
    "    print (\"the person is a toddler\")\n",
    "elif age >= 4 and age < 13:\n",
    "    print (\"the person is kid\")\n",
    "elif age >= 13 and age < 13:\n",
    "    print (\"the person is a teenager\")\n",
    "elif age >= 20 and age < 65:\n",
    "    print(\"the person is an adult\")\n",
    "else:\n",
    "    print (\" the persoon is an elder\")\n",
    "    "
   ]
  },
  {
   "cell_type": "code",
   "execution_count": 10,
   "metadata": {},
   "outputs": [
    {
     "name": "stdout",
     "output_type": "stream",
     "text": [
      "enter age 67\n",
      " the persoon is an elder\n"
     ]
    }
   ],
   "source": [
    "age=int(input('enter age '))\n",
    "if age < 2:\n",
    "    print (\"the person is baby\")\n",
    "elif age >= 2 and age < 4:\n",
    "    print (\"the person is a toddler\")\n",
    "elif age >= 4 and age < 13:\n",
    "    print (\"the person is kid\")\n",
    "elif age >= 13 and age < 13:\n",
    "    print (\"the person is a teenager\")\n",
    "elif age >= 20 and age < 65:\n",
    "    print(\"the person is an adult\")\n",
    "else:\n",
    "    print (\" the persoon is an elder\")\n",
    "    "
   ]
  },
  {
   "cell_type": "markdown",
   "metadata": {},
   "source": [
    "# Q11:"
   ]
  },
  {
   "cell_type": "markdown",
   "metadata": {},
   "source": [
    "Do the following to create a program that simulates how websites ensure that everyone has a unique username.\n",
    "\n",
    "•\t Make a list of five or more usernames called current_users.\n",
    "\n",
    "•\t Make another list of five usernames called new_users. \n",
    "Make sure one or two of the new usernames are also in the current_users list.\n",
    "\n",
    "•\t Loop through the new_users list to see if each new username has already been used. \n",
    "If it has, print a message that the person will need to enter a new username. \n",
    "If a username has not been used, print a message saying that the username is available.\n",
    "\n",
    "•\t Make sure your comparison is case insensitive. If 'John' has been used, 'JOHN' should not be accepted."
   ]
  },
  {
   "cell_type": "code",
   "execution_count": 56,
   "metadata": {},
   "outputs": [],
   "source": [
    "current_users=['sarmad','faisal','sufyan','Ali','ahmed','shahzad']"
   ]
  },
  {
   "cell_type": "code",
   "execution_count": 57,
   "metadata": {},
   "outputs": [],
   "source": [
    "new_users=['hamza','zeryab','atif','ahmed','muzammil','Ali']"
   ]
  },
  {
   "cell_type": "code",
   "execution_count": 58,
   "metadata": {},
   "outputs": [
    {
     "name": "stdout",
     "output_type": "stream",
     "text": [
      "hamza the username is available.\n",
      "zeryab the username is available.\n",
      "atif the username is available.\n",
      "ahmed  will need to enter a new username\n",
      "muzammil the username is available.\n",
      "Ali  will need to enter a new username\n"
     ]
    }
   ],
   "source": [
    "current_user_lower=[current_user.lower() for current_user in current_users]\n",
    "for new_user in new_users:\n",
    "    if new_user.lower() in current_user_lower:\n",
    "        print(new_user,' will need to enter a new username')\n",
    "    else:\n",
    "        print(new_user,'the username is available.')"
   ]
  },
  {
   "cell_type": "code",
   "execution_count": 54,
   "metadata": {},
   "outputs": [
    {
     "name": "stdout",
     "output_type": "stream",
     "text": [
      "hamza the username is available.\n",
      "zeryab the username is available.\n",
      "atif the username is available.\n",
      "muzammil the username is available.\n",
      "tahir the username is available.\n"
     ]
    }
   ],
   "source": [
    "current_users=['sarmad','faisal','sufyan','Ali','ahmed','shahzad']\n",
    "new_users=['hamza','zeryab','atif','muzammil','tahir']\n",
    "\n",
    "current_user_lower=[current_user.lower() for current_user in current_users]\n",
    "for new_user in new_users:\n",
    "    if new_user.lower() in current_users:\n",
    "        print(new_user,' will need to enter a new username')\n",
    "    else:\n",
    "        print(new_user,'the username is available.')"
   ]
  },
  {
   "cell_type": "markdown",
   "metadata": {},
   "source": [
    "# Q12:"
   ]
  },
  {
   "cell_type": "markdown",
   "metadata": {},
   "source": [
    "Use a dictionary to store information about a person you know.\n",
    "Store their first name, last name, age, and the city in which they live. \n",
    "You should have keys such as first_name, last_name, age, and city. \n",
    "Print each piece of information stored in your dictionary"
   ]
  },
  {
   "cell_type": "code",
   "execution_count": 22,
   "metadata": {},
   "outputs": [
    {
     "name": "stdout",
     "output_type": "stream",
     "text": [
      "Ali\n"
     ]
    }
   ],
   "source": [
    "person_info={'first name':'Ali','Last Name':'Ahmed','age':'20','city':'karachi'}\n",
    "print(person_info['first name'])"
   ]
  },
  {
   "cell_type": "code",
   "execution_count": 23,
   "metadata": {},
   "outputs": [
    {
     "name": "stdout",
     "output_type": "stream",
     "text": [
      "Ahmed\n"
     ]
    }
   ],
   "source": [
    "print(person_info['Last Name'])"
   ]
  },
  {
   "cell_type": "code",
   "execution_count": 24,
   "metadata": {},
   "outputs": [
    {
     "name": "stdout",
     "output_type": "stream",
     "text": [
      "20\n"
     ]
    }
   ],
   "source": [
    "print(person_info['age']"
   ]
  },
  {
   "cell_type": "code",
   "execution_count": 25,
   "metadata": {},
   "outputs": [
    {
     "name": "stdout",
     "output_type": "stream",
     "text": [
      "karachi\n"
     ]
    }
   ],
   "source": [
    "print(person_info['city'])"
   ]
  },
  {
   "cell_type": "markdown",
   "metadata": {},
   "source": [
    "# Q13:"
   ]
  },
  {
   "cell_type": "markdown",
   "metadata": {},
   "source": [
    "Starts with your last question 12 , loop through the dictionary’s keys and values.\n",
    "When you’re sure that your loop works, add five more Python terms to your\n",
    "dictionary . When you run your program again, these new words and meanings\n",
    "should automatically be included in the output."
   ]
  },
  {
   "cell_type": "code",
   "execution_count": 43,
   "metadata": {},
   "outputs": [],
   "source": [
    "person_info={'first name':'Ali','Last Name':'Ahmed','age':'20','city':'karachi'}\n",
    "person_info [\"for\"] = \"for loop\"\n",
    "person_info [\"break\"] = \"stop the loop\"\n",
    "person_info [\"and , or , not\"] = \"logical operators\"\n",
    "person_info [\"if\"] = \"for any condition\"\n",
    "person_info [\"def\"]=\"define\""
   ]
  },
  {
   "cell_type": "code",
   "execution_count": 44,
   "metadata": {},
   "outputs": [
    {
     "name": "stdout",
     "output_type": "stream",
     "text": [
      "first name  Ali\n",
      "Last Name  Ahmed\n",
      "age  20\n",
      "city  karachi\n"
     ]
    }
   ],
   "source": [
    "for key,value in person_info.items():\n",
    "    print(key,'',value)"
   ]
  },
  {
   "cell_type": "code",
   "execution_count": 45,
   "metadata": {},
   "outputs": [],
   "source": [
    "person_info [\"for\"] = \"for loop\"\n",
    "person_info [\"break\"] = \"stop the loop\"\n",
    "person_info [\"and , or , not\"] = \"logical operators\"\n",
    "person_info [\"if\"] = \"for any condition\"\n",
    "person_info [\"def\"]=\"define\""
   ]
  },
  {
   "cell_type": "code",
   "execution_count": 46,
   "metadata": {},
   "outputs": [
    {
     "name": "stdout",
     "output_type": "stream",
     "text": [
      "first name  Ali\n",
      "Last Name  Ahmed\n",
      "age  20\n",
      "city  karachi\n",
      "for  for loop\n",
      "break  stop the loop\n",
      "and , or , not  logical operators\n",
      "if  for any condition\n",
      "def  define\n"
     ]
    }
   ],
   "source": [
    "for key,value in person_info.items():\n",
    "    print(key,'',value)"
   ]
  },
  {
   "cell_type": "code",
   "execution_count": null,
   "metadata": {},
   "outputs": [],
   "source": []
  },
  {
   "cell_type": "markdown",
   "metadata": {},
   "source": [
    "# Q14:"
   ]
  },
  {
   "cell_type": "markdown",
   "metadata": {},
   "source": [
    "Make a dictionary containing three major rivers and the country\n",
    "each river runs through. One key-value pair might be 'nile': 'egypt'.\n",
    "    \n",
    "    \n",
    "•\t Use a loop to print a sentence about each river, such as The Nile runs\n",
    "through Egypt.\n",
    "\n",
    "NOTE: use upper case through keys and values."
   ]
  },
  {
   "cell_type": "code",
   "execution_count": 1,
   "metadata": {},
   "outputs": [],
   "source": [
    "river={'nile':'egypt','ravi':'pakistan','mekong': 'thailand'}"
   ]
  },
  {
   "cell_type": "code",
   "execution_count": 2,
   "metadata": {},
   "outputs": [
    {
     "name": "stdout",
     "output_type": "stream",
     "text": [
      "The  NILE  runs through EGYPT\n",
      "The  RAVI  runs through PAKISTAN\n",
      "The  MEKONG  runs through THAILAND\n"
     ]
    }
   ],
   "source": [
    "for i,j in river.items():\n",
    "    print('The ',i.upper(),' runs through',j.upper())"
   ]
  },
  {
   "cell_type": "code",
   "execution_count": null,
   "metadata": {},
   "outputs": [],
   "source": []
  },
  {
   "cell_type": "markdown",
   "metadata": {},
   "source": [
    "# Q15:"
   ]
  },
  {
   "cell_type": "markdown",
   "metadata": {},
   "source": [
    "Make several dictionaries, where the name of each dictionary is the\n",
    "name of a pet. In each dictionary, include the kind of animal and the owner’s\n",
    "name. Store these dictionaries in a list called pets. Next, loop through your list\n",
    "and as you do print everything you know about each pet."
   ]
  },
  {
   "cell_type": "code",
   "execution_count": 42,
   "metadata": {},
   "outputs": [
    {
     "name": "stdout",
     "output_type": "stream",
     "text": [
      "I know about your pet is\n",
      "animal type  dog\n",
      "owners name  Ahsan\n",
      "I know about your pet is\n",
      "animal type  cat\n",
      "Owners name  Ali\n",
      "I know about your pet is\n",
      "animal type  bird\n",
      "owners name  Faisal\n"
     ]
    }
   ],
   "source": [
    "dog={'animal type':'dog','owners name':'Ahsan'}\n",
    "cat={'animal type':'cat','Owners name':'Ali'}\n",
    "grey_parrot={'animal type':'bird','owners name':'Faisal'}\n",
    "pets=[dog,cat,grey_parrot]\n",
    "for pet in pets:\n",
    "    print('I know about your pet is')\n",
    "    for key,value in pet.items():\n",
    "        print(key, '' ,value)\n",
    "\n",
    "\n"
   ]
  },
  {
   "cell_type": "code",
   "execution_count": null,
   "metadata": {},
   "outputs": [],
   "source": []
  }
 ],
 "metadata": {
  "kernelspec": {
   "display_name": "Python 3",
   "language": "python",
   "name": "python3"
  },
  "language_info": {
   "codemirror_mode": {
    "name": "ipython",
    "version": 3
   },
   "file_extension": ".py",
   "mimetype": "text/x-python",
   "name": "python",
   "nbconvert_exporter": "python",
   "pygments_lexer": "ipython3",
   "version": "3.7.3"
  }
 },
 "nbformat": 4,
 "nbformat_minor": 2
}
